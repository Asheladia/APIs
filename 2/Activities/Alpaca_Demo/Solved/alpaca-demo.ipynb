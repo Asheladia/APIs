{
 "cells": [
  {
   "cell_type": "markdown",
   "metadata": {},
   "source": [
    "# Alpaca Demo"
   ]
  },
  {
   "cell_type": "code",
   "execution_count": 12,
   "metadata": {},
   "outputs": [],
   "source": [
    "# Initial imports\n",
    "import os\n",
    "import requests\n",
    "import pandas as pd\n",
    "from dotenv import load_dotenv\n",
    "import alpaca_trade_api as tradeapi\n",
    "from datetime import datetime\n",
    "\n",
    "\n",
    "%matplotlib inline"
   ]
  },
  {
   "cell_type": "code",
   "execution_count": 2,
   "metadata": {},
   "outputs": [
    {
     "data": {
      "text/plain": [
       "True"
      ]
     },
     "execution_count": 2,
     "metadata": {},
     "output_type": "execute_result"
    }
   ],
   "source": [
    "# Load .env environment variables\n",
    "load_dotenv()"
   ]
  },
  {
   "cell_type": "code",
   "execution_count": 3,
   "metadata": {},
   "outputs": [],
   "source": [
    "# Set Alpaca API key and secret\n",
    "alpaca_api_key = os.getenv(\"ALPACA_API_KEY\")\n",
    "alpaca_secret_key = os.getenv(\"ALPACA_SECRET_KEY\")"
   ]
  },
  {
   "cell_type": "code",
   "execution_count": 4,
   "metadata": {},
   "outputs": [
    {
     "name": "stdout",
     "output_type": "stream",
     "text": [
      "Alpaca Key type: <class 'str'>\n",
      "Alpaca Secret Key type: <class 'str'>\n"
     ]
    }
   ],
   "source": [
    "# Verify that Alpaca key and secret were correctly loaded\n",
    "print(f\"Alpaca Key type: {type(alpaca_api_key)}\")\n",
    "print(f\"Alpaca Secret Key type: {type(alpaca_secret_key)}\")"
   ]
  },
  {
   "cell_type": "code",
   "execution_count": 5,
   "metadata": {},
   "outputs": [],
   "source": [
    "# Create the Alpaca API object\n",
    "alpaca = tradeapi.REST(\n",
    "    alpaca_api_key,\n",
    "    alpaca_secret_key,\n",
    "    api_version=\"v2\")"
   ]
  },
  {
   "cell_type": "code",
   "execution_count": 6,
   "metadata": {},
   "outputs": [],
   "source": [
    "# Format current date as ISO format\n",
    "today = pd.Timestamp(\"2020-10-05\", tz=\"America/New_York\").isoformat()"
   ]
  },
  {
   "cell_type": "code",
   "execution_count": 7,
   "metadata": {},
   "outputs": [],
   "source": [
    "# Set the tickers\n",
    "tickers = [\"FB\", \"TWTR\"]"
   ]
  },
  {
   "cell_type": "code",
   "execution_count": 8,
   "metadata": {},
   "outputs": [],
   "source": [
    "# Set timeframe to one day ('1D') for the Alpaca API\n",
    "timeframe = \"1D\""
   ]
  },
  {
   "cell_type": "code",
   "execution_count": 9,
   "metadata": {},
   "outputs": [
    {
     "data": {
      "text/html": [
       "<div>\n",
       "<style scoped>\n",
       "    .dataframe tbody tr th:only-of-type {\n",
       "        vertical-align: middle;\n",
       "    }\n",
       "\n",
       "    .dataframe tbody tr th {\n",
       "        vertical-align: top;\n",
       "    }\n",
       "\n",
       "    .dataframe thead tr th {\n",
       "        text-align: left;\n",
       "    }\n",
       "\n",
       "    .dataframe thead tr:last-of-type th {\n",
       "        text-align: right;\n",
       "    }\n",
       "</style>\n",
       "<table border=\"1\" class=\"dataframe\">\n",
       "  <thead>\n",
       "    <tr>\n",
       "      <th></th>\n",
       "      <th colspan=\"5\" halign=\"left\">FB</th>\n",
       "      <th colspan=\"5\" halign=\"left\">TWTR</th>\n",
       "    </tr>\n",
       "    <tr>\n",
       "      <th></th>\n",
       "      <th>open</th>\n",
       "      <th>high</th>\n",
       "      <th>low</th>\n",
       "      <th>close</th>\n",
       "      <th>volume</th>\n",
       "      <th>open</th>\n",
       "      <th>high</th>\n",
       "      <th>low</th>\n",
       "      <th>close</th>\n",
       "      <th>volume</th>\n",
       "    </tr>\n",
       "    <tr>\n",
       "      <th>time</th>\n",
       "      <th></th>\n",
       "      <th></th>\n",
       "      <th></th>\n",
       "      <th></th>\n",
       "      <th></th>\n",
       "      <th></th>\n",
       "      <th></th>\n",
       "      <th></th>\n",
       "      <th></th>\n",
       "      <th></th>\n",
       "    </tr>\n",
       "  </thead>\n",
       "  <tbody>\n",
       "    <tr>\n",
       "      <th>2020-10-05 00:00:00-04:00</th>\n",
       "      <td>262.2</td>\n",
       "      <td>264.865</td>\n",
       "      <td>260.8401</td>\n",
       "      <td>264.65</td>\n",
       "      <td>11134757</td>\n",
       "      <td>46.46</td>\n",
       "      <td>47.495</td>\n",
       "      <td>46.12</td>\n",
       "      <td>47.31</td>\n",
       "      <td>18452270</td>\n",
       "    </tr>\n",
       "  </tbody>\n",
       "</table>\n",
       "</div>"
      ],
      "text/plain": [
       "                              FB                                        TWTR  \\\n",
       "                            open     high       low   close    volume   open   \n",
       "time                                                                           \n",
       "2020-10-05 00:00:00-04:00  262.2  264.865  260.8401  264.65  11134757  46.46   \n",
       "\n",
       "                                                           \n",
       "                             high    low  close    volume  \n",
       "time                                                       \n",
       "2020-10-05 00:00:00-04:00  47.495  46.12  47.31  18452270  "
      ]
     },
     "execution_count": 9,
     "metadata": {},
     "output_type": "execute_result"
    }
   ],
   "source": [
    "# Get current closing prices for FB and TWTR\n",
    "df_portfolio = alpaca.get_barset(\n",
    "    tickers,\n",
    "    timeframe,\n",
    "    start = today,\n",
    "    end = today\n",
    ").df\n",
    "\n",
    "# Display sample data\n",
    "df_portfolio"
   ]
  },
  {
   "cell_type": "code",
   "execution_count": 14,
   "metadata": {},
   "outputs": [],
   "source": [
    "from datetime import datetime\n",
    "# Format start and end dates as ISO format for one year period\n",
    "start = pd.Timestamp(\"2019-07-14\", tz=\"America/New_York\").isoformat()\n",
    "end = pd.Timestamp(datetime.now(), tz=\"America/New_York\").isoformat()"
   ]
  },
  {
   "cell_type": "code",
   "execution_count": 15,
   "metadata": {},
   "outputs": [
    {
     "data": {
      "text/plain": [
       "'2020-10-05T20:13:44.877356-04:00'"
      ]
     },
     "execution_count": 15,
     "metadata": {},
     "output_type": "execute_result"
    }
   ],
   "source": [
    "end"
   ]
  },
  {
   "cell_type": "code",
   "execution_count": 16,
   "metadata": {},
   "outputs": [
    {
     "data": {
      "text/html": [
       "<div>\n",
       "<style scoped>\n",
       "    .dataframe tbody tr th:only-of-type {\n",
       "        vertical-align: middle;\n",
       "    }\n",
       "\n",
       "    .dataframe tbody tr th {\n",
       "        vertical-align: top;\n",
       "    }\n",
       "\n",
       "    .dataframe thead tr th {\n",
       "        text-align: left;\n",
       "    }\n",
       "\n",
       "    .dataframe thead tr:last-of-type th {\n",
       "        text-align: right;\n",
       "    }\n",
       "</style>\n",
       "<table border=\"1\" class=\"dataframe\">\n",
       "  <thead>\n",
       "    <tr>\n",
       "      <th></th>\n",
       "      <th colspan=\"5\" halign=\"left\">FB</th>\n",
       "      <th colspan=\"5\" halign=\"left\">TWTR</th>\n",
       "    </tr>\n",
       "    <tr>\n",
       "      <th></th>\n",
       "      <th>open</th>\n",
       "      <th>high</th>\n",
       "      <th>low</th>\n",
       "      <th>close</th>\n",
       "      <th>volume</th>\n",
       "      <th>open</th>\n",
       "      <th>high</th>\n",
       "      <th>low</th>\n",
       "      <th>close</th>\n",
       "      <th>volume</th>\n",
       "    </tr>\n",
       "    <tr>\n",
       "      <th>time</th>\n",
       "      <th></th>\n",
       "      <th></th>\n",
       "      <th></th>\n",
       "      <th></th>\n",
       "      <th></th>\n",
       "      <th></th>\n",
       "      <th></th>\n",
       "      <th></th>\n",
       "      <th></th>\n",
       "      <th></th>\n",
       "    </tr>\n",
       "  </thead>\n",
       "  <tbody>\n",
       "    <tr>\n",
       "      <th>2019-07-15 00:00:00-04:00</th>\n",
       "      <td>204.25</td>\n",
       "      <td>205.3300</td>\n",
       "      <td>201.8200</td>\n",
       "      <td>203.93</td>\n",
       "      <td>14535697</td>\n",
       "      <td>38.00</td>\n",
       "      <td>38.970</td>\n",
       "      <td>37.9435</td>\n",
       "      <td>38.6900</td>\n",
       "      <td>11258081</td>\n",
       "    </tr>\n",
       "    <tr>\n",
       "      <th>2019-07-16 00:00:00-04:00</th>\n",
       "      <td>203.89</td>\n",
       "      <td>205.4707</td>\n",
       "      <td>203.1000</td>\n",
       "      <td>203.84</td>\n",
       "      <td>11166309</td>\n",
       "      <td>38.78</td>\n",
       "      <td>38.790</td>\n",
       "      <td>37.8200</td>\n",
       "      <td>38.0100</td>\n",
       "      <td>9311635</td>\n",
       "    </tr>\n",
       "    <tr>\n",
       "      <th>2019-07-17 00:00:00-04:00</th>\n",
       "      <td>204.18</td>\n",
       "      <td>204.3600</td>\n",
       "      <td>201.5900</td>\n",
       "      <td>201.82</td>\n",
       "      <td>10611530</td>\n",
       "      <td>37.86</td>\n",
       "      <td>38.230</td>\n",
       "      <td>37.5600</td>\n",
       "      <td>37.7087</td>\n",
       "      <td>7147682</td>\n",
       "    </tr>\n",
       "    <tr>\n",
       "      <th>2019-07-18 00:00:00-04:00</th>\n",
       "      <td>200.15</td>\n",
       "      <td>202.4700</td>\n",
       "      <td>199.3800</td>\n",
       "      <td>200.77</td>\n",
       "      <td>10174234</td>\n",
       "      <td>37.39</td>\n",
       "      <td>37.795</td>\n",
       "      <td>37.0000</td>\n",
       "      <td>37.6800</td>\n",
       "      <td>9449129</td>\n",
       "    </tr>\n",
       "    <tr>\n",
       "      <th>2019-07-19 00:00:00-04:00</th>\n",
       "      <td>202.18</td>\n",
       "      <td>202.3300</td>\n",
       "      <td>198.0700</td>\n",
       "      <td>198.37</td>\n",
       "      <td>10173742</td>\n",
       "      <td>37.96</td>\n",
       "      <td>38.090</td>\n",
       "      <td>36.7300</td>\n",
       "      <td>36.7700</td>\n",
       "      <td>9134941</td>\n",
       "    </tr>\n",
       "    <tr>\n",
       "      <th>2019-07-22 00:00:00-04:00</th>\n",
       "      <td>199.87</td>\n",
       "      <td>202.5700</td>\n",
       "      <td>198.8100</td>\n",
       "      <td>202.30</td>\n",
       "      <td>12053884</td>\n",
       "      <td>36.92</td>\n",
       "      <td>37.690</td>\n",
       "      <td>36.8300</td>\n",
       "      <td>37.5800</td>\n",
       "      <td>7602555</td>\n",
       "    </tr>\n",
       "    <tr>\n",
       "      <th>2019-07-23 00:00:00-04:00</th>\n",
       "      <td>202.84</td>\n",
       "      <td>204.2420</td>\n",
       "      <td>200.9625</td>\n",
       "      <td>202.39</td>\n",
       "      <td>13145395</td>\n",
       "      <td>37.87</td>\n",
       "      <td>38.020</td>\n",
       "      <td>36.8200</td>\n",
       "      <td>37.8950</td>\n",
       "      <td>9164443</td>\n",
       "    </tr>\n",
       "    <tr>\n",
       "      <th>2019-07-24 00:00:00-04:00</th>\n",
       "      <td>197.63</td>\n",
       "      <td>204.8100</td>\n",
       "      <td>197.2200</td>\n",
       "      <td>204.65</td>\n",
       "      <td>22221694</td>\n",
       "      <td>38.00</td>\n",
       "      <td>38.800</td>\n",
       "      <td>37.7600</td>\n",
       "      <td>38.7400</td>\n",
       "      <td>10956259</td>\n",
       "    </tr>\n",
       "    <tr>\n",
       "      <th>2019-07-25 00:00:00-04:00</th>\n",
       "      <td>206.70</td>\n",
       "      <td>208.6600</td>\n",
       "      <td>198.2600</td>\n",
       "      <td>200.69</td>\n",
       "      <td>36432956</td>\n",
       "      <td>39.00</td>\n",
       "      <td>39.230</td>\n",
       "      <td>37.9100</td>\n",
       "      <td>38.1100</td>\n",
       "      <td>18468672</td>\n",
       "    </tr>\n",
       "    <tr>\n",
       "      <th>2019-07-26 00:00:00-04:00</th>\n",
       "      <td>200.19</td>\n",
       "      <td>202.8800</td>\n",
       "      <td>196.2500</td>\n",
       "      <td>199.58</td>\n",
       "      <td>21614871</td>\n",
       "      <td>40.07</td>\n",
       "      <td>42.330</td>\n",
       "      <td>40.0000</td>\n",
       "      <td>41.5300</td>\n",
       "      <td>48883208</td>\n",
       "    </tr>\n",
       "  </tbody>\n",
       "</table>\n",
       "</div>"
      ],
      "text/plain": [
       "                               FB                                        \\\n",
       "                             open      high       low   close    volume   \n",
       "time                                                                      \n",
       "2019-07-15 00:00:00-04:00  204.25  205.3300  201.8200  203.93  14535697   \n",
       "2019-07-16 00:00:00-04:00  203.89  205.4707  203.1000  203.84  11166309   \n",
       "2019-07-17 00:00:00-04:00  204.18  204.3600  201.5900  201.82  10611530   \n",
       "2019-07-18 00:00:00-04:00  200.15  202.4700  199.3800  200.77  10174234   \n",
       "2019-07-19 00:00:00-04:00  202.18  202.3300  198.0700  198.37  10173742   \n",
       "2019-07-22 00:00:00-04:00  199.87  202.5700  198.8100  202.30  12053884   \n",
       "2019-07-23 00:00:00-04:00  202.84  204.2420  200.9625  202.39  13145395   \n",
       "2019-07-24 00:00:00-04:00  197.63  204.8100  197.2200  204.65  22221694   \n",
       "2019-07-25 00:00:00-04:00  206.70  208.6600  198.2600  200.69  36432956   \n",
       "2019-07-26 00:00:00-04:00  200.19  202.8800  196.2500  199.58  21614871   \n",
       "\n",
       "                            TWTR                                      \n",
       "                            open    high      low    close    volume  \n",
       "time                                                                  \n",
       "2019-07-15 00:00:00-04:00  38.00  38.970  37.9435  38.6900  11258081  \n",
       "2019-07-16 00:00:00-04:00  38.78  38.790  37.8200  38.0100   9311635  \n",
       "2019-07-17 00:00:00-04:00  37.86  38.230  37.5600  37.7087   7147682  \n",
       "2019-07-18 00:00:00-04:00  37.39  37.795  37.0000  37.6800   9449129  \n",
       "2019-07-19 00:00:00-04:00  37.96  38.090  36.7300  36.7700   9134941  \n",
       "2019-07-22 00:00:00-04:00  36.92  37.690  36.8300  37.5800   7602555  \n",
       "2019-07-23 00:00:00-04:00  37.87  38.020  36.8200  37.8950   9164443  \n",
       "2019-07-24 00:00:00-04:00  38.00  38.800  37.7600  38.7400  10956259  \n",
       "2019-07-25 00:00:00-04:00  39.00  39.230  37.9100  38.1100  18468672  \n",
       "2019-07-26 00:00:00-04:00  40.07  42.330  40.0000  41.5300  48883208  "
      ]
     },
     "execution_count": 16,
     "metadata": {},
     "output_type": "execute_result"
    }
   ],
   "source": [
    "# Get closing prices for FB and TWTR from the last year\n",
    "df_portfolio_year = alpaca.get_barset(\n",
    "    tickers,\n",
    "    timeframe,\n",
    "    start = start,\n",
    "    end = end\n",
    ").df\n",
    "\n",
    "# Display sample data\n",
    "df_portfolio_year.head(10)"
   ]
  },
  {
   "cell_type": "code",
   "execution_count": 17,
   "metadata": {},
   "outputs": [
    {
     "data": {
      "text/html": [
       "<div>\n",
       "<style scoped>\n",
       "    .dataframe tbody tr th:only-of-type {\n",
       "        vertical-align: middle;\n",
       "    }\n",
       "\n",
       "    .dataframe tbody tr th {\n",
       "        vertical-align: top;\n",
       "    }\n",
       "\n",
       "    .dataframe thead th {\n",
       "        text-align: right;\n",
       "    }\n",
       "</style>\n",
       "<table border=\"1\" class=\"dataframe\">\n",
       "  <thead>\n",
       "    <tr style=\"text-align: right;\">\n",
       "      <th></th>\n",
       "      <th>FB</th>\n",
       "      <th>TWTR</th>\n",
       "    </tr>\n",
       "  </thead>\n",
       "  <tbody>\n",
       "    <tr>\n",
       "      <th>2019-07-15</th>\n",
       "      <td>203.93</td>\n",
       "      <td>38.6900</td>\n",
       "    </tr>\n",
       "    <tr>\n",
       "      <th>2019-07-16</th>\n",
       "      <td>203.84</td>\n",
       "      <td>38.0100</td>\n",
       "    </tr>\n",
       "    <tr>\n",
       "      <th>2019-07-17</th>\n",
       "      <td>201.82</td>\n",
       "      <td>37.7087</td>\n",
       "    </tr>\n",
       "    <tr>\n",
       "      <th>2019-07-18</th>\n",
       "      <td>200.77</td>\n",
       "      <td>37.6800</td>\n",
       "    </tr>\n",
       "    <tr>\n",
       "      <th>2019-07-19</th>\n",
       "      <td>198.37</td>\n",
       "      <td>36.7700</td>\n",
       "    </tr>\n",
       "    <tr>\n",
       "      <th>2019-07-22</th>\n",
       "      <td>202.30</td>\n",
       "      <td>37.5800</td>\n",
       "    </tr>\n",
       "    <tr>\n",
       "      <th>2019-07-23</th>\n",
       "      <td>202.39</td>\n",
       "      <td>37.8950</td>\n",
       "    </tr>\n",
       "    <tr>\n",
       "      <th>2019-07-24</th>\n",
       "      <td>204.65</td>\n",
       "      <td>38.7400</td>\n",
       "    </tr>\n",
       "    <tr>\n",
       "      <th>2019-07-25</th>\n",
       "      <td>200.69</td>\n",
       "      <td>38.1100</td>\n",
       "    </tr>\n",
       "    <tr>\n",
       "      <th>2019-07-26</th>\n",
       "      <td>199.58</td>\n",
       "      <td>41.5300</td>\n",
       "    </tr>\n",
       "  </tbody>\n",
       "</table>\n",
       "</div>"
      ],
      "text/plain": [
       "                FB     TWTR\n",
       "2019-07-15  203.93  38.6900\n",
       "2019-07-16  203.84  38.0100\n",
       "2019-07-17  201.82  37.7087\n",
       "2019-07-18  200.77  37.6800\n",
       "2019-07-19  198.37  36.7700\n",
       "2019-07-22  202.30  37.5800\n",
       "2019-07-23  202.39  37.8950\n",
       "2019-07-24  204.65  38.7400\n",
       "2019-07-25  200.69  38.1100\n",
       "2019-07-26  199.58  41.5300"
      ]
     },
     "execution_count": 17,
     "metadata": {},
     "output_type": "execute_result"
    }
   ],
   "source": [
    "# Create and empty DataFrame for closing prices\n",
    "df_closing_prices = pd.DataFrame()\n",
    "\n",
    "# Fetch the closing prices of FB and TWTR\n",
    "df_closing_prices[\"FB\"] = df_portfolio_year[\"FB\"][\"close\"]\n",
    "df_closing_prices[\"TWTR\"] = df_portfolio_year[\"TWTR\"][\"close\"]\n",
    "\n",
    "# Drop the time component of the date\n",
    "df_closing_prices.index = df_closing_prices.index.date\n",
    "\n",
    "# Display sample data\n",
    "df_closing_prices.head(10)"
   ]
  },
  {
   "cell_type": "code",
   "execution_count": 19,
   "metadata": {},
   "outputs": [
    {
     "data": {
      "text/html": [
       "<div>\n",
       "<style scoped>\n",
       "    .dataframe tbody tr th:only-of-type {\n",
       "        vertical-align: middle;\n",
       "    }\n",
       "\n",
       "    .dataframe tbody tr th {\n",
       "        vertical-align: top;\n",
       "    }\n",
       "\n",
       "    .dataframe thead th {\n",
       "        text-align: right;\n",
       "    }\n",
       "</style>\n",
       "<table border=\"1\" class=\"dataframe\">\n",
       "  <thead>\n",
       "    <tr style=\"text-align: right;\">\n",
       "      <th></th>\n",
       "      <th>FB</th>\n",
       "      <th>TWTR</th>\n",
       "    </tr>\n",
       "  </thead>\n",
       "  <tbody>\n",
       "    <tr>\n",
       "      <th>2019-07-16</th>\n",
       "      <td>-0.000441</td>\n",
       "      <td>-0.017576</td>\n",
       "    </tr>\n",
       "    <tr>\n",
       "      <th>2019-07-17</th>\n",
       "      <td>-0.009910</td>\n",
       "      <td>-0.007927</td>\n",
       "    </tr>\n",
       "    <tr>\n",
       "      <th>2019-07-18</th>\n",
       "      <td>-0.005203</td>\n",
       "      <td>-0.000761</td>\n",
       "    </tr>\n",
       "    <tr>\n",
       "      <th>2019-07-19</th>\n",
       "      <td>-0.011954</td>\n",
       "      <td>-0.024151</td>\n",
       "    </tr>\n",
       "    <tr>\n",
       "      <th>2019-07-22</th>\n",
       "      <td>0.019811</td>\n",
       "      <td>0.022029</td>\n",
       "    </tr>\n",
       "  </tbody>\n",
       "</table>\n",
       "</div>"
      ],
      "text/plain": [
       "                  FB      TWTR\n",
       "2019-07-16 -0.000441 -0.017576\n",
       "2019-07-17 -0.009910 -0.007927\n",
       "2019-07-18 -0.005203 -0.000761\n",
       "2019-07-19 -0.011954 -0.024151\n",
       "2019-07-22  0.019811  0.022029"
      ]
     },
     "execution_count": 19,
     "metadata": {},
     "output_type": "execute_result"
    }
   ],
   "source": [
    "# Compute daily returns\n",
    "df_daily_returns = df_closing_prices.pct_change().dropna()\n",
    "\n",
    "# Display sample data\n",
    "df_daily_returns.head()"
   ]
  },
  {
   "cell_type": "code",
   "execution_count": 20,
   "metadata": {},
   "outputs": [
    {
     "data": {
      "text/plain": [
       "<matplotlib.axes._subplots.AxesSubplot at 0x7f7a8ac41f90>"
      ]
     },
     "execution_count": 20,
     "metadata": {},
     "output_type": "execute_result"
    },
    {
     "data": {
      "image/png": "[encoded data removed]",
      "text/plain": [
       "<Figure size 432x288 with 1 Axes>"
      ]
     },
     "metadata": {
      "needs_background": "light"
     },
     "output_type": "display_data"
    }
   ],
   "source": [
    "# Plot daily returns\n",
    "df_daily_returns.plot(title=\"Daily Returns of FB and TWTR over the Last Year\")"
   ]
  },
  {
   "cell_type": "code",
   "execution_count": 21,
   "metadata": {},
   "outputs": [
    {
     "data": {
      "text/plain": [
       "<matplotlib.axes._subplots.AxesSubplot at 0x7f7a88201190>"
      ]
     },
     "execution_count": 21,
     "metadata": {},
     "output_type": "execute_result"
    },
    {
     "data": {
      "image/png": "[encoded data removed]",
      "text/plain": [
       "<Figure size 432x288 with 1 Axes>"
      ]
     },
     "metadata": {
      "needs_background": "light"
     },
     "output_type": "display_data"
    }
   ],
   "source": [
    "df_closing_prices.plot()"
   ]
  },
  {
   "cell_type": "code",
   "execution_count": null,
   "metadata": {},
   "outputs": [],
   "source": []
  }
 ],
 "metadata": {
  "kernelspec": {
   "display_name": "Python 3",
   "language": "python",
   "name": "python3"
  },
  "language_info": {
   "codemirror_mode": {
    "name": "ipython",
    "version": 3
   },
   "file_extension": ".py",
   "mimetype": "text/x-python",
   "name": "python",
   "nbconvert_exporter": "python",
   "pygments_lexer": "ipython3",
   "version": "3.7.9"
  }
 },
 "nbformat": 4,
 "nbformat_minor": 4
}
