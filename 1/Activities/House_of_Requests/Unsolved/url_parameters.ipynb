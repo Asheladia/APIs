{
 "cells": [
  {
   "cell_type": "markdown",
   "metadata": {},
   "source": [
    "# House of Requests"
   ]
  },
  {
   "cell_type": "markdown",
   "metadata": {},
   "source": [
    "Use the `Deck of Cards` API to play a game of BlackJack with a partner. Parameterize the `Deck of Cards` API `request urls` in order to create the deck of cards, as well as draw cards for the game."
   ]
  },
  {
   "cell_type": "code",
   "execution_count": 15,
   "metadata": {},
   "outputs": [],
   "source": [
    "import requests\n",
    "import json"
   ]
  },
  {
   "cell_type": "markdown",
   "metadata": {},
   "source": [
    "## Prep for the Game"
   ]
  },
  {
   "cell_type": "code",
   "execution_count": 16,
   "metadata": {},
   "outputs": [
    {
     "data": {
      "text/plain": [
       "{'success': True,\n",
       " 'deck_id': '47vnq69neyf9',\n",
       " 'remaining': 312,\n",
       " 'shuffled': True}"
      ]
     },
     "execution_count": 16,
     "metadata": {},
     "output_type": "execute_result"
    }
   ],
   "source": [
    "# Declare request url to create deck id\n",
    "create_deck_url = \"https://deckofcardsapi.com/api/deck/new/shuffle/?deck_count=6\"\n",
    "\n",
    "# Execute create deck url\n",
    "response_data = requests.get(create_deck_url).json()\n",
    "response_data\n"
   ]
  },
  {
   "cell_type": "markdown",
   "metadata": {},
   "source": [
    "### Parse JSON and extract `deck_id`"
   ]
  },
  {
   "cell_type": "code",
   "execution_count": 18,
   "metadata": {},
   "outputs": [
    {
     "name": "stdout",
     "output_type": "stream",
     "text": [
      "47vnq69neyf9\n"
     ]
    }
   ],
   "source": [
    "# Select deck_id\n",
    "\n",
    "deck_id = response_data['deck_id']\n",
    "print(deck_id)"
   ]
  },
  {
   "cell_type": "markdown",
   "metadata": {},
   "source": [
    "### Declare request urls to draw cards and shuffle deck"
   ]
  },
  {
   "cell_type": "code",
   "execution_count": 26,
   "metadata": {},
   "outputs": [
    {
     "name": "stdout",
     "output_type": "stream",
     "text": [
      "https://deckofcardsapi.com/api/deck/47vnq69neyf9/draw/?count=2\n",
      "https://deckofcardsapi.com/api/deck/47vnq69neyf9/shuffle/\n"
     ]
    }
   ],
   "source": [
    "# Declare draw_cards_url and shuffle_deck_url\n",
    "# Use string interpolation to incorporate the deck_id\n",
    "draw_cards_url = f\"https://deckofcardsapi.com/api/deck/{deck_id}/draw/?count=2\"\n",
    "shuffle_deck_url = f\"https://deckofcardsapi.com/api/deck/{deck_id}/shuffle/\"\n",
    "print(draw_cards_url)\n",
    "print(shuffle_deck_url)"
   ]
  },
  {
   "cell_type": "markdown",
   "metadata": {},
   "source": [
    "## Player 1 Turn"
   ]
  },
  {
   "cell_type": "markdown",
   "metadata": {},
   "source": [
    "### Draw two cards"
   ]
  },
  {
   "cell_type": "code",
   "execution_count": 33,
   "metadata": {},
   "outputs": [
    {
     "data": {
      "text/plain": [
       "{'success': True,\n",
       " 'deck_id': '47vnq69neyf9',\n",
       " 'cards': [{'code': '5S',\n",
       "   'image': 'https://deckofcardsapi.com/static/img/5S.png',\n",
       "   'images': {'svg': 'https://deckofcardsapi.com/static/img/5S.svg',\n",
       "    'png': 'https://deckofcardsapi.com/static/img/5S.png'},\n",
       "   'value': '5',\n",
       "   'suit': 'SPADES'},\n",
       "  {'code': '6S',\n",
       "   'image': 'https://deckofcardsapi.com/static/img/6S.png',\n",
       "   'images': {'svg': 'https://deckofcardsapi.com/static/img/6S.svg',\n",
       "    'png': 'https://deckofcardsapi.com/static/img/6S.png'},\n",
       "   'value': '6',\n",
       "   'suit': 'SPADES'}],\n",
       " 'remaining': 296}"
      ]
     },
     "execution_count": 33,
     "metadata": {},
     "output_type": "execute_result"
    }
   ],
   "source": [
    "# Draw two cards\n",
    "draw_cards = f\"https://deckofcardsapi.com/api/deck/{deck_id}/draw/?count=2\"\n",
    "data = requests.get(draw_cards_url).json()\n",
    "data\n"
   ]
  },
  {
   "cell_type": "markdown",
   "metadata": {},
   "source": [
    "### Parse and extract `value` and `suit` elements from JSON output, for each card"
   ]
  },
  {
   "cell_type": "code",
   "execution_count": 34,
   "metadata": {},
   "outputs": [
    {
     "name": "stdout",
     "output_type": "stream",
     "text": [
      "5ofSPADES\n",
      "6ofSPADES\n"
     ]
    }
   ],
   "source": [
    "# Select returned card's value and suit (i.e. 3 of clubs)\n",
    "#Parse the JSON and extract values for elements `suit` and `value` for each card. Store `suit` \n",
    "player_1_card_1 = data['cards'][0]['value'] + \"of\" + data[\"cards\"][0]['suit']\n",
    "player_1_card_2 =  data['cards'][1]['value'] + \"of\" + data[\"cards\"][1]['suit']\n",
    "# Print player cards\n",
    "print(player_1_card_1)\n",
    "print(player_1_card_2)"
   ]
  },
  {
   "cell_type": "markdown",
   "metadata": {},
   "source": [
    "### Decide whether to draw another card or skip to next player turn"
   ]
  },
  {
   "cell_type": "code",
   "execution_count": 43,
   "metadata": {},
   "outputs": [
    {
     "name": "stdout",
     "output_type": "stream",
     "text": [
      "3ofHEARTS\n"
     ]
    }
   ],
   "source": [
    "# Draw a third card\n",
    "draw_cards_url_1 = f\"https://deckofcardsapi.com/api/deck/{deck_id}/draw/?count=1\"\n",
    "\n",
    "# Select returned card's value and suit (i.e. 3 of clubs)\n",
    "drawn_cards =requests.get(draw_cards_url_1).json()\n",
    "player_1_card_3 = drawn_cards['cards'][0]['value'] + \"of\" + drawn_cards[\"cards\"][0]['suit']\n",
    "\n",
    "# Print player card\n",
    "print(player_1_card_3)"
   ]
  },
  {
   "cell_type": "markdown",
   "metadata": {},
   "source": [
    "### Manually calculate player 1 points and enter below"
   ]
  },
  {
   "cell_type": "markdown",
   "metadata": {},
   "source": [
    "Player 1 points = "
   ]
  },
  {
   "cell_type": "code",
   "execution_count": 44,
   "metadata": {},
   "outputs": [
    {
     "data": {
      "text/plain": [
       "14"
      ]
     },
     "execution_count": 44,
     "metadata": {},
     "output_type": "execute_result"
    }
   ],
   "source": [
    "5+6+3\n"
   ]
  },
  {
   "cell_type": "markdown",
   "metadata": {},
   "source": [
    "## Player 2 / Dealer Turn"
   ]
  },
  {
   "cell_type": "code",
   "execution_count": null,
   "metadata": {},
   "outputs": [],
   "source": [
    "# Draw two cards for player 1\n",
    "\n",
    "\n",
    "# Select card value and suit \n",
    "\n",
    "\n",
    "# Print player cards\n",
    "print(player_2_card_1)\n",
    "print(player_2_card_2)\n",
    "\n",
    "# Draw third card for player 2\n",
    "\n",
    "\n",
    "# Print player card\n",
    "print(player_2_card_3)"
   ]
  },
  {
   "cell_type": "markdown",
   "metadata": {},
   "source": [
    "### Manually calculate player 2 points and enter below"
   ]
  },
  {
   "cell_type": "markdown",
   "metadata": {},
   "source": [
    "Player 2 points ="
   ]
  },
  {
   "cell_type": "raw",
   "metadata": {},
   "source": []
  }
 ],
 "metadata": {
  "kernelspec": {
   "display_name": "Python 3",
   "language": "python",
   "name": "python3"
  },
  "language_info": {
   "codemirror_mode": {
    "name": "ipython",
    "version": 3
   },
   "file_extension": ".py",
   "mimetype": "text/x-python",
   "name": "python",
   "nbconvert_exporter": "python",
   "pygments_lexer": "ipython3",
   "version": "3.7.6"
  }
 },
 "nbformat": 4,
 "nbformat_minor": 4
}
